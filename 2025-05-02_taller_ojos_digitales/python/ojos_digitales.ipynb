{
 "cells": [
  {
   "cell_type": "code",
   "execution_count": 1,
   "id": "35147e7b",
   "metadata": {},
   "outputs": [
    {
     "data": {
      "text/plain": [
       "True"
      ]
     },
     "execution_count": 1,
     "metadata": {},
     "output_type": "execute_result"
    }
   ],
   "source": [
    "import cv2\n",
    "import numpy as np\n",
    "\n",
    "# Load image\n",
    "og_image = cv2.imread('resting_cat.jpg')\n",
    "\n",
    "# Calculate resized presentation dimensions\n",
    "imgRatio = og_image.shape[0] / og_image.shape[1]\n",
    "baseHeight = 500\n",
    "winx = int(baseHeight/imgRatio)\n",
    "winy = int(baseHeight)\n",
    "\n",
    "# Resize image to presentation dimensions\n",
    "image = cv2.resize(og_image, (winx, winy), 0, 0, cv2.INTER_AREA)\n",
    "\n",
    "# Convert to grayscale\n",
    "image_gray = cv2.cvtColor(image, cv2.COLOR_BGR2GRAY)\n",
    "\n",
    "# Apply Gaussian blur\n",
    "blurred = cv2.GaussianBlur(image, (11, 11), 0)\n",
    "\n",
    "# Apply sharpening filter\n",
    "kernel= np.array([[0, -1, 0],\n",
    "                  [-1, 5, -1],\n",
    "                  [0, -1, 0]])\n",
    "sharpened = cv2.filter2D(image, -1, kernel)\n",
    "\n",
    "# Border detection using Sobel filter\n",
    "sobel_x = cv2.Sobel(image_gray, cv2.CV_64F, 1, 0, ksize=3)\n",
    "sobel_y = cv2.Sobel(image_gray, cv2.CV_64F, 0, 1, ksize=3)\n",
    "sobel_x = cv2.convertScaleAbs(sobel_x)\n",
    "sobel_y = cv2.convertScaleAbs(sobel_y)\n",
    "sobel_total = cv2.addWeighted(sobel_x, 0.5, sobel_y, 0.5, 0)\n",
    "\n",
    "# Border detection using Laplacian filter\n",
    "laplacian = cv2.Laplacian(image_gray, cv2.CV_64F)\n",
    "laplacian = cv2.convertScaleAbs(laplacian)\n",
    "\n",
    "# Display images\n",
    "# Windows resized and moved to into square grid\n",
    "cv2.namedWindow(\"image\", cv2.WINDOW_NORMAL)\n",
    "cv2.resizeWindow(\"image\", winx, winy)\n",
    "cv2.moveWindow(\"image\", 0, 0)\n",
    "cv2.imshow(\"image\", image)\n",
    "\n",
    "cv2.namedWindow(\"imagegray\", cv2.WINDOW_NORMAL)\n",
    "cv2.resizeWindow(\"imagegray\", winx, winy)\n",
    "cv2.moveWindow(\"imagegray\", winx, 0)\n",
    "cv2.imshow(\"imagegray\", image_gray)\n",
    "\n",
    "cv2.namedWindow(\"blurred\", cv2.WINDOW_NORMAL)\n",
    "cv2.resizeWindow(\"blurred\", winx, winy)\n",
    "cv2.moveWindow(\"blurred\", winx*2, 0)\n",
    "cv2.imshow(\"blurred\", blurred)\n",
    "\n",
    "cv2.namedWindow(\"sharpened\", cv2.WINDOW_NORMAL)\n",
    "cv2.resizeWindow(\"sharpened\", winx, winy)\n",
    "cv2.moveWindow(\"sharpened\", 0, winy)\n",
    "cv2.imshow(\"sharpened\", sharpened)\n",
    "\n",
    "cv2.namedWindow(\"sobel_total\", cv2.WINDOW_NORMAL)\n",
    "cv2.resizeWindow(\"sobel_total\", winx, winy)\n",
    "cv2.moveWindow(\"sobel_total\", winx, winy)\n",
    "cv2.imshow(\"sobel_total\",sobel_total)\n",
    "\n",
    "cv2.namedWindow(\"laplacian\", cv2.WINDOW_NORMAL)\n",
    "cv2.resizeWindow(\"laplacian\", winx, winy)\n",
    "cv2.moveWindow(\"laplacian\", winx*2, winy)\n",
    "cv2.imshow(\"laplacian\",laplacian)\n",
    "\n",
    "# Wait for a key press and close all windows\n",
    "cv2.waitKey(0)\n",
    "cv2.destroyAllWindows()\n",
    "\n",
    "cv2.imwrite('resting_cat_gray.jpg', image_gray)\n",
    "cv2.imwrite('resting_cat_blurred.jpg', blurred)\n",
    "cv2.imwrite('resting_cat_sharpened.jpg', sharpened)\n",
    "cv2.imwrite('resting_cat_sobel.jpg', sobel_total)\n",
    "cv2.imwrite('resting_cat_laplacian.jpg', laplacian)\n"
   ]
  }
 ],
 "metadata": {
  "kernelspec": {
   "display_name": "base",
   "language": "python",
   "name": "python3"
  },
  "language_info": {
   "codemirror_mode": {
    "name": "ipython",
    "version": 3
   },
   "file_extension": ".py",
   "mimetype": "text/x-python",
   "name": "python",
   "nbconvert_exporter": "python",
   "pygments_lexer": "ipython3",
   "version": "3.12.7"
  }
 },
 "nbformat": 4,
 "nbformat_minor": 5
}
