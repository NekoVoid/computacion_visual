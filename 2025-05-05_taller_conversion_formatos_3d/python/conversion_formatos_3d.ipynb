{
 "cells": [
  {
   "cell_type": "code",
   "execution_count": 1,
   "id": "d45078f6",
   "metadata": {},
   "outputs": [
    {
     "name": "stdout",
     "output_type": "stream",
     "text": [
      "Jupyter environment detected. Enabling Open3D WebVisualizer.\n",
      "[Open3D INFO] WebRTC GUI backend enabled.\n",
      "[Open3D INFO] WebRTCWindowSystem: HTTP handshake server disabled.\n",
      "bow.obj vertices: 699, triangles: 1004, normals: 1004\n",
      "bow.obj duplicate count, vertices: 147, triangles: 0\n",
      "\n",
      "eiffel_tower.stl vertices: 82756, triangles: 34120, normals: 34120\n",
      "eiffel_tower.stl duplicate count, vertices: 65702, triangles: 0\n"
     ]
    }
   ],
   "source": [
    "import numpy as np\n",
    "import matplotlib.pyplot as plt\n",
    "import open3d as o3d\n",
    "\n",
    "\n",
    "bowMesh = o3d.io.read_triangle_mesh(\"bow.obj\")\n",
    "eiffelMesh = o3d.io.read_triangle_mesh(\"eiffel_tower.stl\")\n",
    "\n",
    "if(not bowMesh.has_triangle_normals()):\n",
    "    bowMesh.compute_triangle_normals()\n",
    "if(not eiffelMesh.has_triangle_normals()):\n",
    "  eiffelMesh.compute_triangle_normals()\n",
    "\n",
    "print(f'bow.obj vertices: {len(bowMesh.vertices)}, triangles: {len(bowMesh.triangles)}, normals: {len(bowMesh.triangle_normals)}')\n",
    "print(f'bow.obj duplicate count, vertices: {len(bowMesh.vertices) - len(np.unique(np.asarray(bowMesh.vertices), axis=0))}, triangles: {len(bowMesh.triangles) - len(np.unique(np.asarray(bowMesh.triangles), axis=0))}')\n",
    "print()\n",
    "print(f'eiffel_tower.stl vertices: {len(eiffelMesh.vertices)}, triangles: {len(eiffelMesh.triangles)}, normals: {len(eiffelMesh.triangle_normals)}')\n",
    "print(f'eiffel_tower.stl duplicate count, vertices: {len(eiffelMesh.vertices) - len(np.unique(np.asarray(eiffelMesh.vertices), axis=0))}, triangles: {len(eiffelMesh.triangles) - len(np.unique(np.asarray(eiffelMesh.triangles), axis=0))}')"
   ]
  },
  {
   "cell_type": "code",
   "execution_count": 5,
   "id": "00b62e48",
   "metadata": {},
   "outputs": [
    {
     "name": "stdout",
     "output_type": "stream",
     "text": [
      "[Open3D WARNING] [ViewControl] SetViewPoint() failed because window height and width are not set.\n",
      "[Open3D WARNING] GLFW Error: WGL: Failed to make context current: Controlador no válido. \n",
      "[Open3D WARNING] GLFW Error: WGL: Failed to make context current: Controlador no válido. \n"
     ]
    }
   ],
   "source": [
    "if(not bowMesh.has_vertex_normals()): bowMesh.compute_vertex_normals()\n",
    "if(not eiffelMesh.has_vertex_normals()): eiffelMesh.compute_vertex_normals()\n",
    "\n",
    "o3d.visualization.draw_geometries([bowMesh])\n",
    "o3d.visualization.draw_geometries([eiffelMesh])"
   ]
  },
  {
   "cell_type": "code",
   "execution_count": 6,
   "id": "12b724cf",
   "metadata": {},
   "outputs": [
    {
     "name": "stdout",
     "output_type": "stream",
     "text": [
      "[Open3D WARNING] This file format does not support writing textures and uv coordinates. Consider using .obj\n",
      "[Open3D WARNING] Write OBJ can not include triangle normals.\n",
      "[Open3D WARNING] Write PNG failed: image has no data.\n",
      "[Open3D WARNING] Write OBJ successful, but failed to write texture file.\n"
     ]
    },
    {
     "data": {
      "text/plain": [
       "True"
      ]
     },
     "execution_count": 6,
     "metadata": {},
     "output_type": "execute_result"
    }
   ],
   "source": [
    "o3d.io.write_triangle_mesh(\"bow.stl\", bowMesh)\n",
    "o3d.io.write_triangle_mesh(\"eiffel.obj\", bowMesh)"
   ]
  }
 ],
 "metadata": {
  "kernelspec": {
   "display_name": "base",
   "language": "python",
   "name": "python3"
  },
  "language_info": {
   "codemirror_mode": {
    "name": "ipython",
    "version": 3
   },
   "file_extension": ".py",
   "mimetype": "text/x-python",
   "name": "python",
   "nbconvert_exporter": "python",
   "pygments_lexer": "ipython3",
   "version": "3.12.7"
  }
 },
 "nbformat": 4,
 "nbformat_minor": 5
}
